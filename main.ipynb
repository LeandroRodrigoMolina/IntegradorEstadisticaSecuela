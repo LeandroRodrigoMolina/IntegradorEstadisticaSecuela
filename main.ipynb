{
 "cells": [
  {
   "cell_type": "code",
   "execution_count": 62,
   "metadata": {},
   "outputs": [],
   "source": [
    "import pandas as pd\n",
    "import numpy as np\n",
    "import scipy.stats as stats"
   ]
  },
  {
   "cell_type": "code",
   "execution_count": 63,
   "metadata": {},
   "outputs": [],
   "source": [
    "# Cargaremos el archivo Excel modificado que el usuario acaba de subir\n",
    "file_path_excel_modificado = 'dataset_empleados.xlsx'"
   ]
  },
  {
   "cell_type": "code",
   "execution_count": 64,
   "metadata": {},
   "outputs": [
    {
     "data": {
      "text/html": [
       "<div>\n",
       "<style scoped>\n",
       "    .dataframe tbody tr th:only-of-type {\n",
       "        vertical-align: middle;\n",
       "    }\n",
       "\n",
       "    .dataframe tbody tr th {\n",
       "        vertical-align: top;\n",
       "    }\n",
       "\n",
       "    .dataframe thead th {\n",
       "        text-align: right;\n",
       "    }\n",
       "</style>\n",
       "<table border=\"1\" class=\"dataframe\">\n",
       "  <thead>\n",
       "    <tr style=\"text-align: right;\">\n",
       "      <th></th>\n",
       "      <th>ID</th>\n",
       "      <th>Genero</th>\n",
       "      <th>Nivel_Educacion</th>\n",
       "      <th>Edad</th>\n",
       "      <th>Experiencia_Laboral</th>\n",
       "      <th>Especializacion</th>\n",
       "      <th>Lenguajes_Programacion</th>\n",
       "      <th>Tipo_Empresa</th>\n",
       "      <th>Ubicacion_Geografica</th>\n",
       "      <th>Salario</th>\n",
       "      <th>Horas_Trabajo</th>\n",
       "      <th>Proyectos_Actuales</th>\n",
       "    </tr>\n",
       "  </thead>\n",
       "  <tbody>\n",
       "    <tr>\n",
       "      <th>0</th>\n",
       "      <td>1</td>\n",
       "      <td>Masculino</td>\n",
       "      <td>Licenciatura</td>\n",
       "      <td>28</td>\n",
       "      <td>6</td>\n",
       "      <td>Desarrollo Web</td>\n",
       "      <td>JavaScript, HTML, CSS</td>\n",
       "      <td>Startup</td>\n",
       "      <td>Nueva York, EE. UU.</td>\n",
       "      <td>60000</td>\n",
       "      <td>40</td>\n",
       "      <td>Aplicación Móvil</td>\n",
       "    </tr>\n",
       "    <tr>\n",
       "      <th>1</th>\n",
       "      <td>2</td>\n",
       "      <td>Femenino</td>\n",
       "      <td>Maestría</td>\n",
       "      <td>35</td>\n",
       "      <td>10</td>\n",
       "      <td>Seguridad</td>\n",
       "      <td>Python, C++, Java</td>\n",
       "      <td>Corporación</td>\n",
       "      <td>San Francisco, EE. UU.</td>\n",
       "      <td>80000</td>\n",
       "      <td>45</td>\n",
       "      <td>Análisis de Datos</td>\n",
       "    </tr>\n",
       "    <tr>\n",
       "      <th>2</th>\n",
       "      <td>3</td>\n",
       "      <td>Masculino</td>\n",
       "      <td>Licenciatura</td>\n",
       "      <td>26</td>\n",
       "      <td>4</td>\n",
       "      <td>Desarrollo Móvil</td>\n",
       "      <td>Swift, Java</td>\n",
       "      <td>Startup</td>\n",
       "      <td>Londres, Reino Unido</td>\n",
       "      <td>55000</td>\n",
       "      <td>42</td>\n",
       "      <td>Juegos en Línea</td>\n",
       "    </tr>\n",
       "    <tr>\n",
       "      <th>3</th>\n",
       "      <td>4</td>\n",
       "      <td>Femenino</td>\n",
       "      <td>Doctorado</td>\n",
       "      <td>40</td>\n",
       "      <td>15</td>\n",
       "      <td>Inteligencia Artificial</td>\n",
       "      <td>Python, R</td>\n",
       "      <td>Startup</td>\n",
       "      <td>Toronto, Canadá</td>\n",
       "      <td>95000</td>\n",
       "      <td>50</td>\n",
       "      <td>Robótica</td>\n",
       "    </tr>\n",
       "    <tr>\n",
       "      <th>4</th>\n",
       "      <td>5</td>\n",
       "      <td>No Binario</td>\n",
       "      <td>Licenciatura</td>\n",
       "      <td>30</td>\n",
       "      <td>7</td>\n",
       "      <td>Análisis de Datos</td>\n",
       "      <td>SQL, R</td>\n",
       "      <td>Agencia</td>\n",
       "      <td>Washington, D.C., EE. UU.</td>\n",
       "      <td>62000</td>\n",
       "      <td>38</td>\n",
       "      <td>Ciberseguridad</td>\n",
       "    </tr>\n",
       "  </tbody>\n",
       "</table>\n",
       "</div>"
      ],
      "text/plain": [
       "   ID        Genero    Nivel_Educacion  Edad  Experiencia_Laboral   \n",
       "0   1   Masculino     Licenciatura        28                    6  \\\n",
       "1   2   Femenino      Maestría            35                   10   \n",
       "2   3   Masculino     Licenciatura        26                    4   \n",
       "3   4   Femenino      Doctorado           40                   15   \n",
       "4   5   No Binario    Licenciatura        30                    7   \n",
       "\n",
       "             Especializacion    Lenguajes_Programacion   Tipo_Empresa   \n",
       "0           Desarrollo Web     JavaScript, HTML, CSS     Startup       \\\n",
       "1           Seguridad           Python, C++, Java        Corporación    \n",
       "2          Desarrollo Móvil     Swift, Java              Startup        \n",
       "3   Inteligencia Artificial                Python, R     Startup        \n",
       "4         Análisis de Datos     SQL, R                        Agencia   \n",
       "\n",
       "          Ubicacion_Geografica  Salario  Horas_Trabajo      Proyectos_Actuales  \n",
       "0         Nueva York, EE. UU.     60000             40   Aplicación Móvil       \n",
       "1      San Francisco, EE. UU.     80000             45   Análisis de Datos      \n",
       "2        Londres, Reino Unido     55000             42   Juegos en Línea        \n",
       "3             Toronto, Canadá     95000             50   Robótica               \n",
       "4   Washington, D.C., EE. UU.     62000             38   Ciberseguridad         "
      ]
     },
     "execution_count": 64,
     "metadata": {},
     "output_type": "execute_result"
    }
   ],
   "source": [
    "# Utilizamos Pandas para cargar el archivo Excel modificado\n",
    "df_empleados_excel_modificado = pd.read_excel(file_path_excel_modificado)\n",
    "\n",
    "# Mostrar las primeras filas del DataFrame modificado para verificar su carga\n",
    "df_empleados_excel_modificado.head()"
   ]
  },
  {
   "cell_type": "code",
   "execution_count": 65,
   "metadata": {},
   "outputs": [
    {
     "name": "stdout",
     "output_type": "stream",
     "text": [
      "promedio edad: 33.816326530612244\n",
      "promedio xp 9.326530612244898\n"
     ]
    }
   ],
   "source": [
    "# Calculamos el promedio de edad y experiencia laboral separados por género\n",
    "promedios_por_genero = df_empleados_excel_modificado.groupby('Genero').agg({\n",
    "    'Edad': 'mean',\n",
    "    'Experiencia_Laboral': 'mean'\n",
    "})\n",
    "\n",
    "promedios_por_genero\n"
   ]
  },
  {
   "cell_type": "code",
   "execution_count": 66,
   "metadata": {},
   "outputs": [
    {
     "name": "stdout",
     "output_type": "stream",
     "text": [
      "intervalo de confianza sobre las horas de trabajo (42.54906633573436, 44.675423460184014)\n"
     ]
    }
   ],
   "source": [
    "# Extraemos la columna de horas de trabajo del DataFrame modificado\n",
    "horas_trabajo_modificado = df_empleados_excel_modificado['Horas_Trabajo']\n",
    "\n",
    "# Calculamos la media y la desviación estándar de las horas de trabajo\n",
    "media_horas_modificado = np.mean(horas_trabajo_modificado)\n",
    "std_horas_modificado = np.std(horas_trabajo_modificado, ddof=1)  # ddof=1 para muestra\n",
    "\n",
    "# Número de observaciones\n",
    "n_modificado = len(horas_trabajo_modificado)\n",
    "\n",
    "# Calculamos el intervalo de confianza del 95% para la media\n",
    "confianza = 0.95\n",
    "sem_modificado = std_horas_modificado / np.sqrt(n_modificado)  # Error estándar de la media\n",
    "intervalo_confianza_modificado = stats.t.interval(confianza, df=n_modificado-1, loc=media_horas_modificado, scale=sem_modificado)\n",
    "\n",
    "\n",
    "print(\"intervalo de confianza sobre las horas de trabajo\",intervalo_confianza_modificado)\n"
   ]
  }
 ],
 "metadata": {
  "kernelspec": {
   "display_name": "Python 3",
   "language": "python",
   "name": "python3"
  },
  "language_info": {
   "codemirror_mode": {
    "name": "ipython",
    "version": 3
   },
   "file_extension": ".py",
   "mimetype": "text/x-python",
   "name": "python",
   "nbconvert_exporter": "python",
   "pygments_lexer": "ipython3",
   "version": "3.11.1"
  }
 },
 "nbformat": 4,
 "nbformat_minor": 2
}
